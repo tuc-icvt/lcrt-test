{
 "cells": [
  {
   "cell_type": "markdown",
   "metadata": {},
   "source": [
    "## Beispiel 4.2: Berechnung von Gleichgewichtskonstanten"
   ]
  },
  {
   "cell_type": "markdown",
   "metadata": {},
   "source": [
    "_(Dieses Beispiel finden Sie im Lehrbuch auf Seite 42)_"
   ]
  },
  {
   "cell_type": "markdown",
   "metadata": {},
   "source": [
    "In diesem Berechnungsbeispiel sollen exemplarisch die thermodynamische Gleichgewichtskonstante K$°$ sowie die spezielle Gleichgewichtskonstante K$_{x}$ für die Ammoniaksynthese berechnet werden. Die erforderlichen Gleichungen (4.1) bis (4.15) sind auf den Seiten 37 bis 43 beschrieben."
   ]
  },
  {
   "cell_type": "markdown",
   "metadata": {},
   "source": [
    "---"
   ]
  },
  {
   "cell_type": "markdown",
   "metadata": {},
   "source": [
    "### Laden der benötigten Pakete"
   ]
  },
  {
   "cell_type": "markdown",
   "metadata": {},
   "source": [
    "Innerhalb dieses Beispiels werden die Pakete _numpy_ und _matplotlib.pyplot_ benötigt. Während _numpy_ wichtige Rechenoperationen und Funktionalitäten bereitstellt, werden mit Hilfe des Pakets _matplotlib.pyplot_ die Ergebnisse grafisch dargestellt."
   ]
  },
  {
   "cell_type": "code",
   "execution_count": 1,
   "metadata": {},
   "outputs": [],
   "source": [
    "import numpy as np\n",
    "import matplotlib.pyplot as plt"
   ]
  },
  {
   "cell_type": "markdown",
   "metadata": {},
   "source": [
    "---"
   ]
  },
  {
   "cell_type": "markdown",
   "metadata": {},
   "source": [
    "### Definition der Arrays"
   ]
  },
  {
   "cell_type": "markdown",
   "metadata": {},
   "source": [
    "Zuerst müssen die jeweiligen Arrays initialisiert werden.\n",
    "Die Komponenten Stickstoff (N<sub>2</sub>), Wasserstoff (H<sub>2</sub>) und Ammoniak (NH<sub>3</sub>) werden mit den Indizes 0, 1 und 2 beschrieben."
   ]
  },
  {
   "cell_type": "code",
   "execution_count": 2,
   "metadata": {},
   "outputs": [],
   "source": [
    "comps = np.linspace(0,2,3) # 0: N_2, 1: H_2, 2: NH_3\n",
    "nu = np.array((comps))\n",
    "cp = np.array((comps))\n",
    "H_f = np.array((comps))\n",
    "S_g = np.array((comps))"
   ]
  },
  {
   "cell_type": "markdown",
   "metadata": {},
   "source": [
    "---"
   ]
  },
  {
   "cell_type": "markdown",
   "metadata": {},
   "source": [
    "### Definition der Konstanten"
   ]
  },
  {
   "cell_type": "markdown",
   "metadata": {},
   "source": [
    "#### Stöchiometrische Koeffizienten"
   ]
  },
  {
   "cell_type": "markdown",
   "metadata": {},
   "source": [
    "Die stöchiometrischen Koeffizienten $\\nu_i$ können in der Reaktionsgleichung (Tabelle 4.1, Seite 38) abgelesen werden:"
   ]
  },
  {
   "cell_type": "markdown",
   "metadata": {},
   "source": [
    "N<sub>2</sub> + 3 H<sub>2</sub> ⇌ 2 NH<sub>3</sub>"
   ]
  },
  {
   "cell_type": "markdown",
   "metadata": {},
   "source": [
    "Während die stöchiometrischen Koeffizienten der Edukte ein negatives Vorzeichen erhalten, ist das Vorzeichen der Produkte positiv."
   ]
  },
  {
   "cell_type": "code",
   "execution_count": 3,
   "metadata": {},
   "outputs": [],
   "source": [
    "nu[0] = -1 # N_2\n",
    "nu[1] = -3 # H_2\n",
    "nu[2] = 2 # NH_3"
   ]
  },
  {
   "cell_type": "markdown",
   "metadata": {},
   "source": [
    "#### Thermodynamische Daten"
   ]
  },
  {
   "cell_type": "markdown",
   "metadata": {},
   "source": [
    "Außerdem werden für die Berechnung einige thermodynamische Daten benötigt, welche folgender Quelle entnommen wurden: https://webbook.nist.gov/chemistry (2017)"
   ]
  },
  {
   "cell_type": "markdown",
   "metadata": {},
   "source": [
    "##### Wärmekapazität $c_\\mathrm{p}$"
   ]
  },
  {
   "cell_type": "code",
   "execution_count": 4,
   "metadata": {},
   "outputs": [],
   "source": [
    "cp[0] = 29.1 # J / (mol * K)\n",
    "cp[1] = 28.8 # J / (mol * K)\n",
    "cp[2] = 35.1 # J / (mol * K)"
   ]
  },
  {
   "cell_type": "markdown",
   "metadata": {},
   "source": [
    "##### Bildungsenthalpie $H_\\mathrm{f}$"
   ]
  },
  {
   "cell_type": "code",
   "execution_count": 5,
   "metadata": {},
   "outputs": [],
   "source": [
    "H_f[0] = 0 # J / (mol)\n",
    "H_f[1] = 0 # J / (mol)\n",
    "H_f[2] = -45.9e3 # J / (mol)"
   ]
  },
  {
   "cell_type": "markdown",
   "metadata": {},
   "source": [
    "##### Entropie $S$"
   ]
  },
  {
   "cell_type": "code",
   "execution_count": 6,
   "metadata": {},
   "outputs": [],
   "source": [
    "S_g[0] = 191.61 # J / (mol * K)\n",
    "S_g[1] = 130.68 # J / (mol * K)\n",
    "S_g[2] =  192.77 # J / (mol * K)"
   ]
  },
  {
   "cell_type": "markdown",
   "metadata": {},
   "source": [
    "##### Referenztemperatur T$°$, Referenzdruck p$°$ sowie universelle Gaskonstante R"
   ]
  },
  {
   "cell_type": "code",
   "execution_count": 7,
   "metadata": {},
   "outputs": [],
   "source": [
    "T_S = 298.15 # K\n",
    "p_S = 1e5 # Pa\n",
    "R = 8.314 # J (mol * K)"
   ]
  },
  {
   "cell_type": "markdown",
   "metadata": {},
   "source": [
    "---"
   ]
  },
  {
   "cell_type": "markdown",
   "metadata": {},
   "source": [
    "### Berechnung der Reaktionsdaten"
   ]
  },
  {
   "cell_type": "markdown",
   "metadata": {},
   "source": [
    "Die Wärmekapazität $\\Delta_\\mathrm{R}c_\\mathrm{p}$ (Gleichung 4.5), die Reaktionsenthalpie $\\Delta_\\mathrm{R}H$ (Gleichung 4.1) und die Reaktionsentropie $\\Delta_\\mathrm{R}S$ (Gleichung 4.11) unter Standardbedingungen sind das Skalarprodukt (_numpy_-Funktion _np.dot()_) aus den thermodynamischen Daten und den stöchiometrischen Koeffizienten."
   ]
  },
  {
   "cell_type": "code",
   "execution_count": 8,
   "metadata": {},
   "outputs": [],
   "source": [
    "Delta_R_cp_S = np.dot(nu,cp) # J / (mol * K)\n",
    "Delta_R_H_S = np.dot(nu,H_f) # J / (mol * K)\n",
    "Delta_R_S_S = np.dot(nu,S_g) # J / (mol * K)"
   ]
  },
  {
   "cell_type": "markdown",
   "metadata": {},
   "source": [
    " ---"
   ]
  },
  {
   "cell_type": "markdown",
   "metadata": {},
   "source": [
    "### Definition der temperaturabhängigen Funktionen"
   ]
  },
  {
   "cell_type": "markdown",
   "metadata": {},
   "source": [
    "Im weiteren Verlauf müssen die temperaturabhängigen Funktionen für die Reaktionsenthalpie $\\Delta_\\mathrm{R}H(T)$ (Gleichung 4.4), die Reaktionsentropie $\\Delta_\\mathrm{R}S(T)$ (Gleichung 4.10) sowie für die freie Reaktionsenthalpie $\\Delta_\\mathrm{R}G(T)$ (Gleichung 4.9) definiert werden."
   ]
  },
  {
   "cell_type": "code",
   "execution_count": 9,
   "metadata": {},
   "outputs": [],
   "source": [
    "def Delta_R_H(T):\n",
    "    return (Delta_R_H_S + Delta_R_cp_S * (T - T_S))\n",
    "\n",
    "def Delta_R_S(T):\n",
    "    return (Delta_R_S_S + Delta_R_cp_S * np.log(T/T_S))\n",
    "\n",
    "def Delta_R_G(T):\n",
    "    return( Delta_R_H(T) - T * Delta_R_S(T))"
   ]
  },
  {
   "cell_type": "markdown",
   "metadata": {},
   "source": [
    "### Definition der Gleichgewichtskonstanten "
   ]
  },
  {
   "cell_type": "markdown",
   "metadata": {},
   "source": [
    "Die thermodynamische Gleichgewichtskonstante K$°$ berechnet sich nach Gleichung (4.12)."
   ]
  },
  {
   "cell_type": "code",
   "execution_count": 10,
   "metadata": {},
   "outputs": [],
   "source": [
    "def K_S(T):\n",
    "    return( np.exp( -Delta_R_G(T) / (R * T) ) )"
   ]
  },
  {
   "cell_type": "markdown",
   "metadata": {},
   "source": [
    "Für die spezielle Gleichgewichtskonstante K$_{x}$ kann Gleichung (4.14) herangezogen werden."
   ]
  },
  {
   "cell_type": "code",
   "execution_count": 11,
   "metadata": {},
   "outputs": [],
   "source": [
    "def K_x(T,p):\n",
    "    return (K_S(T) * (p/p_S)**2)"
   ]
  },
  {
   "cell_type": "markdown",
   "metadata": {},
   "source": [
    "---"
   ]
  },
  {
   "cell_type": "markdown",
   "metadata": {},
   "source": [
    "### Darstellung der Ergebnisse"
   ]
  },
  {
   "cell_type": "markdown",
   "metadata": {},
   "source": [
    "Für die Darstellung der Ergebnisse muss der zu betrachtende Temperaturbereich $T_\\mathrm{range}$ angegeben werden. In diesem Fall ist dies der Bereich von 400 °C bis 500 °C in Schritten von 1 K."
   ]
  },
  {
   "cell_type": "code",
   "execution_count": 12,
   "metadata": {},
   "outputs": [],
   "source": [
    "T_range = np.linspace(273.15 + 400, 273.15 + 500, 101) # K"
   ]
  },
  {
   "cell_type": "markdown",
   "metadata": {},
   "source": [
    "Anschließend werden die Funktionen über die Temperatur mit Hilfe des Pakets _matplotlib.pyplot_ dargestellt."
   ]
  },
  {
   "cell_type": "code",
   "execution_count": 13,
   "metadata": {},
   "outputs": [
    {
     "data": {
      "image/png": "[encoded data removed]",
      "text/plain": [
       "<Figure size 864x360 with 2 Axes>"
      ]
     },
     "metadata": {
      "needs_background": "light"
     },
     "output_type": "display_data"
    }
   ],
   "source": [
    "fig, (ax1, ax2) = plt.subplots(1, 2, figsize=(12,5))\n",
    "\n",
    "ax1.plot(T_range-273.15, K_S(T_range)*1e4, color='black')\n",
    "ax1.set_xlabel(\"T / °C\")\n",
    "ax1.set_ylabel(\"K$°$ $\\cdot 10^{4}$ / 1\")\n",
    "ax1.set_xlim(400,500)\n",
    "ax1.set_ylim(0,1.5)\n",
    "\n",
    "ax2.plot(T_range-273.15, K_x(T_range, 100e5), color='black', linestyle='dotted', label=\"100 bar\")\n",
    "ax2.plot(T_range-273.15, K_x(T_range, 200e5), color='black', linestyle='dashed', label=\"200 bar\")\n",
    "ax2.plot(T_range-273.15, K_x(T_range, 300e5), color='black', linestyle='solid', label=\"300 bar\")\n",
    "ax2.set_xlabel(\"T / °C\")\n",
    "ax2.set_ylabel(\"K$_{x}$ / 1\")\n",
    "ax2.set_xlim(400,500)\n",
    "ax2.set_ylim(0,14)\n",
    "ax2.legend(loc='best')\n",
    "\n",
    "plt.show()"
   ]
  },
  {
   "cell_type": "markdown",
   "metadata": {},
   "source": [
    "Die Berechnungsergebnisse sind ebenfalls im Lehrbuch in Abbildung 4.1 auf Seite 43 dargestellt."
   ]
  }
 ],
 "metadata": {
  "kernelspec": {
   "display_name": "Python 3",
   "language": "python",
   "name": "python3"
  },
  "language_info": {
   "codemirror_mode": {
    "name": "ipython",
    "version": 3
   },
   "file_extension": ".py",
   "mimetype": "text/x-python",
   "name": "python",
   "nbconvert_exporter": "python",
   "pygments_lexer": "ipython3",
   "version": "3.8.5"
  }
 },
 "nbformat": 4,
 "nbformat_minor": 4
}
